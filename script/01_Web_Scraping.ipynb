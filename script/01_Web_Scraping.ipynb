{
 "cells": [
  {
   "cell_type": "code",
   "execution_count": 12,
   "id": "7c83333c",
   "metadata": {},
   "outputs": [],
   "source": [
    "import requests\n",
    "import parsel\n",
    "import csv"
   ]
  },
  {
   "cell_type": "code",
   "execution_count": 13,
   "id": "220bef7f",
   "metadata": {},
   "outputs": [],
   "source": [
    "district = ['gulou', 'jianye', 'qinhuai', 'xuanwu', 'yuhuatai', 'qixia', 'jiangning', 'pukou', 'liuhe', 'lishui', 'gaochun', 'jurong']"
   ]
  },
  {
   "cell_type": "code",
   "execution_count": 14,
   "id": "32aff4bf",
   "metadata": {},
   "outputs": [],
   "source": [
    "for district in district:\n",
    "    for page in range(1, 101):\n",
    "        url = f'https://nj.lianjia.com/ershoufang/{district}/pg{page}sf1/'\n",
    "        headers = {'User-Agent': 'Mozilla/5.0 (Macintosh; Intel Mac OS X 10_15_7) AppleWebKit/537.36 (KHTML, like Gecko) Chrome/119.0.0.0 Safari/537.36'}\n",
    "\n",
    "        response = requests.get(url = url, headers = headers)\n",
    "        html_data = response.text\n",
    "\n",
    "        selector = parsel.Selector(html_data)\n",
    "        lis = selector.css('.clear.LOGCLICKDATA')\n",
    "\n",
    "        for li in lis:\n",
    "            title = li.css('.title a::text').get() # get title\n",
    "            address = li.css('.positionInfo a::text').getall() # multiple labels\n",
    "            address = '-'.join(address) # combine address\n",
    "            introduce = li.css('.houseInfo::text').get() # get house info\n",
    "            totalPrice = li.css('.priceInfo .totalPrice span::text').get() # get total price\n",
    "            unitPrice = li.css('.unitPrice span::text').get() # get unit price\n",
    "\n",
    "            with open(f'raw data {district}.csv', mode = 'a', encoding = 'utf-8', newline = '') as f:\n",
    "                csv_write = csv.writer(f)\n",
    "                csv_write.writerow([title, address, introduce, totalPrice, unitPrice])"
   ]
  },
  {
   "cell_type": "code",
   "execution_count": null,
   "id": "53583f0e",
   "metadata": {},
   "outputs": [],
   "source": []
  }
 ],
 "metadata": {
  "kernelspec": {
   "display_name": "Python 3 (ipykernel)",
   "language": "python",
   "name": "python3"
  },
  "language_info": {
   "codemirror_mode": {
    "name": "ipython",
    "version": 3
   },
   "file_extension": ".py",
   "mimetype": "text/x-python",
   "name": "python",
   "nbconvert_exporter": "python",
   "pygments_lexer": "ipython3",
   "version": "3.11.4"
  }
 },
 "nbformat": 4,
 "nbformat_minor": 5
}
